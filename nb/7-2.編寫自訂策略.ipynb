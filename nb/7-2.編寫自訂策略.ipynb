{
 "cells": [
  {
   "cell_type": "markdown",
   "id": "579680b5-b3ca-4429-96e6-54e13f954f57",
   "metadata": {},
   "source": [
    "# 編寫自訂策略"
   ]
  },
  {
   "cell_type": "code",
   "execution_count": null,
   "id": "4195e210-3359-45fd-b702-1c525eb8ca36",
   "metadata": {},
   "outputs": [],
   "source": []
  }
 ],
 "metadata": {
  "kernelspec": {
   "display_name": "Python 3",
   "language": "python",
   "name": "python3"
  },
  "language_info": {
   "codemirror_mode": {
    "name": "ipython",
    "version": 3
   },
   "file_extension": ".py",
   "mimetype": "text/x-python",
   "name": "python",
   "nbconvert_exporter": "python",
   "pygments_lexer": "ipython3",
   "version": "3.8.3"
  }
 },
 "nbformat": 4,
 "nbformat_minor": 5
}
