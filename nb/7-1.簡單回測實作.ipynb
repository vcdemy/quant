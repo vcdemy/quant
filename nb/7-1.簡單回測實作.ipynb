{
 "cells": [
  {
   "cell_type": "markdown",
   "id": "44efe167-e1f6-4ec1-95db-af47ce838f90",
   "metadata": {},
   "source": [
    "# 實作回測"
   ]
  },
  {
   "cell_type": "markdown",
   "id": "dc69cc1b-4524-4487-9237-aa9f74317862",
   "metadata": {},
   "source": [
    "參考資料：\n",
    "\n",
    "* https://kernc.github.io/backtesting.py/"
   ]
  },
  {
   "cell_type": "code",
   "execution_count": null,
   "id": "69e79f66-3da4-473f-a042-863ac319b2ca",
   "metadata": {},
   "outputs": [],
   "source": [
    "!pip install backtesting"
   ]
  },
  {
   "cell_type": "code",
   "execution_count": null,
   "id": "441cf0ef-8a2a-4e78-ad08-967c0a3ab2d6",
   "metadata": {},
   "outputs": [],
   "source": [
    "from backtesting import Backtest, Strategy\n",
    "from backtesting.lib import crossover\n",
    "\n",
    "from backtesting.test import SMA, GOOG\n",
    "\n",
    "\n",
    "class SmaCross(Strategy):\n",
    "    n1 = 10\n",
    "    n2 = 20\n",
    "\n",
    "    def init(self):\n",
    "        close = self.data.Close\n",
    "        self.sma1 = self.I(SMA, close, self.n1)\n",
    "        self.sma2 = self.I(SMA, close, self.n2)\n",
    "\n",
    "    def next(self):\n",
    "        if crossover(self.sma1, self.sma2):\n",
    "            self.buy()\n",
    "        elif crossover(self.sma2, self.sma1):\n",
    "            self.sell()\n",
    "\n",
    "\n",
    "bt = Backtest(GOOG, SmaCross,\n",
    "              cash=10000, commission=.002,\n",
    "              exclusive_orders=True)\n",
    "\n",
    "output = bt.run()\n",
    "bt.plot()"
   ]
  }
 ],
 "metadata": {
  "kernelspec": {
   "display_name": "Python 3",
   "language": "python",
   "name": "python3"
  },
  "language_info": {
   "codemirror_mode": {
    "name": "ipython",
    "version": 3
   },
   "file_extension": ".py",
   "mimetype": "text/x-python",
   "name": "python",
   "nbconvert_exporter": "python",
   "pygments_lexer": "ipython3",
   "version": "3.8.3"
  }
 },
 "nbformat": 4,
 "nbformat_minor": 5
}
